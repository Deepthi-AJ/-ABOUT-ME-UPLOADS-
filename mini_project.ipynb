{
  "nbformat": 4,
  "nbformat_minor": 0,
  "metadata": {
    "colab": {
      "provenance": [],
      "include_colab_link": true
    },
    "kernelspec": {
      "name": "python3",
      "display_name": "Python 3"
    },
    "language_info": {
      "name": "python"
    }
  },
  "cells": [
    {
      "cell_type": "markdown",
      "metadata": {
        "id": "view-in-github",
        "colab_type": "text"
      },
      "source": [
        "<a href=\"https://colab.research.google.com/github/Deepthi-AJ/-ABOUT-ME-UPLOADS-/blob/main/mini_project.ipynb\" target=\"_parent\"><img src=\"https://colab.research.google.com/assets/colab-badge.svg\" alt=\"Open In Colab\"/></a>"
      ]
    },
    {
      "cell_type": "code",
      "execution_count": null,
      "metadata": {
        "id": "Pk03G9xUuiDY"
      },
      "outputs": [],
      "source": [
        "import pandas as pd\n",
        "import seaborn as sns\n",
        "import numpy as np\n",
        "import matplotlib.pyplot as plt"
      ]
    },
    {
      "cell_type": "code",
      "source": [
        "df = pd.read_csv('Queries.csv')"
      ],
      "metadata": {
        "id": "onsVNsuWu5cU"
      },
      "execution_count": null,
      "outputs": []
    },
    {
      "cell_type": "code",
      "source": [
        "df.head()"
      ],
      "metadata": {
        "colab": {
          "base_uri": "https://localhost:8080/",
          "height": 206
        },
        "id": "QI9_pA5Uu-ns",
        "outputId": "1ca60344-64af-408e-e7e0-a6e2f0c08ebe"
      },
      "execution_count": null,
      "outputs": [
        {
          "output_type": "execute_result",
          "data": {
            "text/plain": [
              "                                 Top queries  Clicks  Impressions     CTR  \\\n",
              "0                number guessing game python    5223        14578  35.83%   \n",
              "1                        thecleverprogrammer    2809         3456  81.28%   \n",
              "2           python projects with source code    2077        73380   2.83%   \n",
              "3  classification report in machine learning    2012         4959  40.57%   \n",
              "4                      the clever programmer    1931         2528  76.38%   \n",
              "\n",
              "   Position  \n",
              "0      1.61  \n",
              "1      1.02  \n",
              "2      5.94  \n",
              "3      1.28  \n",
              "4      1.09  "
            ],
            "text/html": [
              "\n",
              "  <div id=\"df-befd8330-c920-4b97-aa07-4624f849418c\" class=\"colab-df-container\">\n",
              "    <div>\n",
              "<style scoped>\n",
              "    .dataframe tbody tr th:only-of-type {\n",
              "        vertical-align: middle;\n",
              "    }\n",
              "\n",
              "    .dataframe tbody tr th {\n",
              "        vertical-align: top;\n",
              "    }\n",
              "\n",
              "    .dataframe thead th {\n",
              "        text-align: right;\n",
              "    }\n",
              "</style>\n",
              "<table border=\"1\" class=\"dataframe\">\n",
              "  <thead>\n",
              "    <tr style=\"text-align: right;\">\n",
              "      <th></th>\n",
              "      <th>Top queries</th>\n",
              "      <th>Clicks</th>\n",
              "      <th>Impressions</th>\n",
              "      <th>CTR</th>\n",
              "      <th>Position</th>\n",
              "    </tr>\n",
              "  </thead>\n",
              "  <tbody>\n",
              "    <tr>\n",
              "      <th>0</th>\n",
              "      <td>number guessing game python</td>\n",
              "      <td>5223</td>\n",
              "      <td>14578</td>\n",
              "      <td>35.83%</td>\n",
              "      <td>1.61</td>\n",
              "    </tr>\n",
              "    <tr>\n",
              "      <th>1</th>\n",
              "      <td>thecleverprogrammer</td>\n",
              "      <td>2809</td>\n",
              "      <td>3456</td>\n",
              "      <td>81.28%</td>\n",
              "      <td>1.02</td>\n",
              "    </tr>\n",
              "    <tr>\n",
              "      <th>2</th>\n",
              "      <td>python projects with source code</td>\n",
              "      <td>2077</td>\n",
              "      <td>73380</td>\n",
              "      <td>2.83%</td>\n",
              "      <td>5.94</td>\n",
              "    </tr>\n",
              "    <tr>\n",
              "      <th>3</th>\n",
              "      <td>classification report in machine learning</td>\n",
              "      <td>2012</td>\n",
              "      <td>4959</td>\n",
              "      <td>40.57%</td>\n",
              "      <td>1.28</td>\n",
              "    </tr>\n",
              "    <tr>\n",
              "      <th>4</th>\n",
              "      <td>the clever programmer</td>\n",
              "      <td>1931</td>\n",
              "      <td>2528</td>\n",
              "      <td>76.38%</td>\n",
              "      <td>1.09</td>\n",
              "    </tr>\n",
              "  </tbody>\n",
              "</table>\n",
              "</div>\n",
              "    <div class=\"colab-df-buttons\">\n",
              "\n",
              "  <div class=\"colab-df-container\">\n",
              "    <button class=\"colab-df-convert\" onclick=\"convertToInteractive('df-befd8330-c920-4b97-aa07-4624f849418c')\"\n",
              "            title=\"Convert this dataframe to an interactive table.\"\n",
              "            style=\"display:none;\">\n",
              "\n",
              "  <svg xmlns=\"http://www.w3.org/2000/svg\" height=\"24px\" viewBox=\"0 -960 960 960\">\n",
              "    <path d=\"M120-120v-720h720v720H120Zm60-500h600v-160H180v160Zm220 220h160v-160H400v160Zm0 220h160v-160H400v160ZM180-400h160v-160H180v160Zm440 0h160v-160H620v160ZM180-180h160v-160H180v160Zm440 0h160v-160H620v160Z\"/>\n",
              "  </svg>\n",
              "    </button>\n",
              "\n",
              "  <style>\n",
              "    .colab-df-container {\n",
              "      display:flex;\n",
              "      gap: 12px;\n",
              "    }\n",
              "\n",
              "    .colab-df-convert {\n",
              "      background-color: #E8F0FE;\n",
              "      border: none;\n",
              "      border-radius: 50%;\n",
              "      cursor: pointer;\n",
              "      display: none;\n",
              "      fill: #1967D2;\n",
              "      height: 32px;\n",
              "      padding: 0 0 0 0;\n",
              "      width: 32px;\n",
              "    }\n",
              "\n",
              "    .colab-df-convert:hover {\n",
              "      background-color: #E2EBFA;\n",
              "      box-shadow: 0px 1px 2px rgba(60, 64, 67, 0.3), 0px 1px 3px 1px rgba(60, 64, 67, 0.15);\n",
              "      fill: #174EA6;\n",
              "    }\n",
              "\n",
              "    .colab-df-buttons div {\n",
              "      margin-bottom: 4px;\n",
              "    }\n",
              "\n",
              "    [theme=dark] .colab-df-convert {\n",
              "      background-color: #3B4455;\n",
              "      fill: #D2E3FC;\n",
              "    }\n",
              "\n",
              "    [theme=dark] .colab-df-convert:hover {\n",
              "      background-color: #434B5C;\n",
              "      box-shadow: 0px 1px 3px 1px rgba(0, 0, 0, 0.15);\n",
              "      filter: drop-shadow(0px 1px 2px rgba(0, 0, 0, 0.3));\n",
              "      fill: #FFFFFF;\n",
              "    }\n",
              "  </style>\n",
              "\n",
              "    <script>\n",
              "      const buttonEl =\n",
              "        document.querySelector('#df-befd8330-c920-4b97-aa07-4624f849418c button.colab-df-convert');\n",
              "      buttonEl.style.display =\n",
              "        google.colab.kernel.accessAllowed ? 'block' : 'none';\n",
              "\n",
              "      async function convertToInteractive(key) {\n",
              "        const element = document.querySelector('#df-befd8330-c920-4b97-aa07-4624f849418c');\n",
              "        const dataTable =\n",
              "          await google.colab.kernel.invokeFunction('convertToInteractive',\n",
              "                                                    [key], {});\n",
              "        if (!dataTable) return;\n",
              "\n",
              "        const docLinkHtml = 'Like what you see? Visit the ' +\n",
              "          '<a target=\"_blank\" href=https://colab.research.google.com/notebooks/data_table.ipynb>data table notebook</a>'\n",
              "          + ' to learn more about interactive tables.';\n",
              "        element.innerHTML = '';\n",
              "        dataTable['output_type'] = 'display_data';\n",
              "        await google.colab.output.renderOutput(dataTable, element);\n",
              "        const docLink = document.createElement('div');\n",
              "        docLink.innerHTML = docLinkHtml;\n",
              "        element.appendChild(docLink);\n",
              "      }\n",
              "    </script>\n",
              "  </div>\n",
              "\n",
              "\n",
              "<div id=\"df-b361aa0a-918b-4894-a44a-7e32f78a3792\">\n",
              "  <button class=\"colab-df-quickchart\" onclick=\"quickchart('df-b361aa0a-918b-4894-a44a-7e32f78a3792')\"\n",
              "            title=\"Suggest charts\"\n",
              "            style=\"display:none;\">\n",
              "\n",
              "<svg xmlns=\"http://www.w3.org/2000/svg\" height=\"24px\"viewBox=\"0 0 24 24\"\n",
              "     width=\"24px\">\n",
              "    <g>\n",
              "        <path d=\"M19 3H5c-1.1 0-2 .9-2 2v14c0 1.1.9 2 2 2h14c1.1 0 2-.9 2-2V5c0-1.1-.9-2-2-2zM9 17H7v-7h2v7zm4 0h-2V7h2v10zm4 0h-2v-4h2v4z\"/>\n",
              "    </g>\n",
              "</svg>\n",
              "  </button>\n",
              "\n",
              "<style>\n",
              "  .colab-df-quickchart {\n",
              "      --bg-color: #E8F0FE;\n",
              "      --fill-color: #1967D2;\n",
              "      --hover-bg-color: #E2EBFA;\n",
              "      --hover-fill-color: #174EA6;\n",
              "      --disabled-fill-color: #AAA;\n",
              "      --disabled-bg-color: #DDD;\n",
              "  }\n",
              "\n",
              "  [theme=dark] .colab-df-quickchart {\n",
              "      --bg-color: #3B4455;\n",
              "      --fill-color: #D2E3FC;\n",
              "      --hover-bg-color: #434B5C;\n",
              "      --hover-fill-color: #FFFFFF;\n",
              "      --disabled-bg-color: #3B4455;\n",
              "      --disabled-fill-color: #666;\n",
              "  }\n",
              "\n",
              "  .colab-df-quickchart {\n",
              "    background-color: var(--bg-color);\n",
              "    border: none;\n",
              "    border-radius: 50%;\n",
              "    cursor: pointer;\n",
              "    display: none;\n",
              "    fill: var(--fill-color);\n",
              "    height: 32px;\n",
              "    padding: 0;\n",
              "    width: 32px;\n",
              "  }\n",
              "\n",
              "  .colab-df-quickchart:hover {\n",
              "    background-color: var(--hover-bg-color);\n",
              "    box-shadow: 0 1px 2px rgba(60, 64, 67, 0.3), 0 1px 3px 1px rgba(60, 64, 67, 0.15);\n",
              "    fill: var(--button-hover-fill-color);\n",
              "  }\n",
              "\n",
              "  .colab-df-quickchart-complete:disabled,\n",
              "  .colab-df-quickchart-complete:disabled:hover {\n",
              "    background-color: var(--disabled-bg-color);\n",
              "    fill: var(--disabled-fill-color);\n",
              "    box-shadow: none;\n",
              "  }\n",
              "\n",
              "  .colab-df-spinner {\n",
              "    border: 2px solid var(--fill-color);\n",
              "    border-color: transparent;\n",
              "    border-bottom-color: var(--fill-color);\n",
              "    animation:\n",
              "      spin 1s steps(1) infinite;\n",
              "  }\n",
              "\n",
              "  @keyframes spin {\n",
              "    0% {\n",
              "      border-color: transparent;\n",
              "      border-bottom-color: var(--fill-color);\n",
              "      border-left-color: var(--fill-color);\n",
              "    }\n",
              "    20% {\n",
              "      border-color: transparent;\n",
              "      border-left-color: var(--fill-color);\n",
              "      border-top-color: var(--fill-color);\n",
              "    }\n",
              "    30% {\n",
              "      border-color: transparent;\n",
              "      border-left-color: var(--fill-color);\n",
              "      border-top-color: var(--fill-color);\n",
              "      border-right-color: var(--fill-color);\n",
              "    }\n",
              "    40% {\n",
              "      border-color: transparent;\n",
              "      border-right-color: var(--fill-color);\n",
              "      border-top-color: var(--fill-color);\n",
              "    }\n",
              "    60% {\n",
              "      border-color: transparent;\n",
              "      border-right-color: var(--fill-color);\n",
              "    }\n",
              "    80% {\n",
              "      border-color: transparent;\n",
              "      border-right-color: var(--fill-color);\n",
              "      border-bottom-color: var(--fill-color);\n",
              "    }\n",
              "    90% {\n",
              "      border-color: transparent;\n",
              "      border-bottom-color: var(--fill-color);\n",
              "    }\n",
              "  }\n",
              "</style>\n",
              "\n",
              "  <script>\n",
              "    async function quickchart(key) {\n",
              "      const quickchartButtonEl =\n",
              "        document.querySelector('#' + key + ' button');\n",
              "      quickchartButtonEl.disabled = true;  // To prevent multiple clicks.\n",
              "      quickchartButtonEl.classList.add('colab-df-spinner');\n",
              "      try {\n",
              "        const charts = await google.colab.kernel.invokeFunction(\n",
              "            'suggestCharts', [key], {});\n",
              "      } catch (error) {\n",
              "        console.error('Error during call to suggestCharts:', error);\n",
              "      }\n",
              "      quickchartButtonEl.classList.remove('colab-df-spinner');\n",
              "      quickchartButtonEl.classList.add('colab-df-quickchart-complete');\n",
              "    }\n",
              "    (() => {\n",
              "      let quickchartButtonEl =\n",
              "        document.querySelector('#df-b361aa0a-918b-4894-a44a-7e32f78a3792 button');\n",
              "      quickchartButtonEl.style.display =\n",
              "        google.colab.kernel.accessAllowed ? 'block' : 'none';\n",
              "    })();\n",
              "  </script>\n",
              "</div>\n",
              "\n",
              "    </div>\n",
              "  </div>\n"
            ],
            "application/vnd.google.colaboratory.intrinsic+json": {
              "type": "dataframe",
              "variable_name": "df",
              "summary": "{\n  \"name\": \"df\",\n  \"rows\": 1000,\n  \"fields\": [\n    {\n      \"column\": \"Top queries\",\n      \"properties\": {\n        \"dtype\": \"string\",\n        \"num_unique_values\": 1000,\n        \"samples\": [\n          \"how to code a number guessing game in python\",\n          \"one vs one and one vs all\",\n          \"fake currency detection dataset\"\n        ],\n        \"semantic_type\": \"\",\n        \"description\": \"\"\n      }\n    },\n    {\n      \"column\": \"Clicks\",\n      \"properties\": {\n        \"dtype\": \"number\",\n        \"std\": 281,\n        \"min\": 48,\n        \"max\": 5223,\n        \"num_unique_values\": 304,\n        \"samples\": [\n          178,\n          210,\n          298\n        ],\n        \"semantic_type\": \"\",\n        \"description\": \"\"\n      }\n    },\n    {\n      \"column\": \"Impressions\",\n      \"properties\": {\n        \"dtype\": \"number\",\n        \"std\": 4856,\n        \"min\": 62,\n        \"max\": 73380,\n        \"num_unique_values\": 776,\n        \"samples\": [\n          440,\n          2451,\n          462\n        ],\n        \"semantic_type\": \"\",\n        \"description\": \"\"\n      }\n    },\n    {\n      \"column\": \"CTR\",\n      \"properties\": {\n        \"dtype\": \"string\",\n        \"num_unique_values\": 915,\n        \"samples\": [\n          \"32.12%\",\n          \"63.86%\",\n          \"4.54%\"\n        ],\n        \"semantic_type\": \"\",\n        \"description\": \"\"\n      }\n    },\n    {\n      \"column\": \"Position\",\n      \"properties\": {\n        \"dtype\": \"number\",\n        \"std\": 2.841842043693017,\n        \"min\": 1.0,\n        \"max\": 28.52,\n        \"num_unique_values\": 531,\n        \"samples\": [\n          6.54,\n          3.75,\n          4.93\n        ],\n        \"semantic_type\": \"\",\n        \"description\": \"\"\n      }\n    }\n  ]\n}"
            }
          },
          "metadata": {},
          "execution_count": 3
        }
      ]
    },
    {
      "cell_type": "code",
      "source": [
        "df['CTR'] = df['CTR'].str.replace('%', '').astype(float) / 100"
      ],
      "metadata": {
        "id": "qaIkKgK9vGsV"
      },
      "execution_count": null,
      "outputs": []
    },
    {
      "cell_type": "code",
      "source": [
        "import re\n",
        "def clean(query):\n",
        "  query = query.lower()\n",
        "  words = re.findall(r'\\b\\w+\\b',query)\n",
        "  return words"
      ],
      "metadata": {
        "id": "4uCCTXtpxAwP"
      },
      "execution_count": null,
      "outputs": []
    },
    {
      "cell_type": "code",
      "source": [
        "from collections import Counter\n",
        "allwords = df['Top queries'].apply(clean).sum()\n",
        "wordcounts = Counter(allwords)\n",
        "print(wordcounts)"
      ],
      "metadata": {
        "colab": {
          "base_uri": "https://localhost:8080/"
        },
        "id": "5w8stWbAx_Yq",
        "outputId": "741d5c2d-80b9-410e-c89b-52c198bb54f9"
      },
      "execution_count": null,
      "outputs": [
        {
          "output_type": "stream",
          "name": "stdout",
          "text": [
            "Counter({'python': 562, 'in': 232, 'code': 138, 'learning': 133, 'machine': 123, 'using': 105, 'game': 103, 'number': 95, 'to': 82, 'prediction': 70, 'project': 68, 'analysis': 66, 'with': 53, 'the': 50, 'how': 50, 'c': 49, 'detection': 45, 'guessing': 43, 'source': 43, 'classification': 43, 'data': 42, 'system': 42, 'for': 39, 'of': 38, 'a': 37, 'projects': 36, 'recommendation': 36, 'accuracy': 33, 'price': 32, 'and': 30, 'model': 29, 'guess': 28, 'case': 25, 'array': 23, 'card': 22, 'text': 22, 'weather': 21, 'paper': 20, 'is': 20, 'turtle': 19, 'rock': 19, 'scissors': 19, 'hangman': 17, 'find': 17, 'from': 17, 'program': 17, 'report': 16, 'pandas': 16, 'questions': 16, 'missing': 16, 'calculator': 16, 'sentiment': 16, 'r2': 15, 'score': 15, 'language': 15, 'stock': 15, 'calculate': 15, 'science': 14, 'book': 14, 'image': 14, 'datareader': 13, 'random': 13, 'time': 13, 'otp': 13, 'what': 13, 'vs': 13, 'quiz': 13, 'algorithm': 13, 'best': 12, 'functions': 12, 'graphics': 11, 'word': 11, 'make': 11, 'mobile': 10, 'age': 10, 'dataset': 10, 'house': 9, 'online': 9, 'facebook': 9, 'programming': 9, 'practice': 9, 'grade': 9, 'next': 9, 'netflix': 9, 'topics': 9, 'forecast': 9, 'contact': 9, 'social': 9, 'variance': 9, 'standard': 8, 'scaler': 8, 'car': 8, '42': 8, 'unsupervised': 8, 'alexnet': 8, 'roadmap': 8, 'complexity': 8, 'fraud': 8, 'naive': 8, 'bayes': 8, 'average': 8, 'sales': 8, 'media': 8, 'function': 8, 'random_state': 7, 'stress': 7, 'instagram': 7, 'interview': 7, 'whatsapp': 7, 'tensor': 7, 'subarray': 7, 'network': 7, 'search': 7, 'mini': 7, 'games': 7, 'grading': 7, 'worst': 7, 'recognition': 7, 'list': 7, 'create': 7, 'one': 7, 'player': 7, 'clever': 6, 'programmer': 6, 'earthquake': 6, 'currency': 6, 'standardscaler': 6, 'flower': 6, 'forecasting': 6, 'fashion': 6, 'chat': 6, 'descriptive': 6, 'convert': 6, 'neural': 6, 'qr': 6, 'two': 6, 'sum': 6, 'handwriting': 6, 'emotion': 6, 'send': 6, 'authentication': 6, 'amazon': 6, 'numpy': 6, 'simple': 6, 'google': 6, 'aman': 5, 'kharwal': 5, 'applications': 5, 'fake': 5, 'cloud': 5, 'payment': 5, 'verification': 5, 'hotel': 5, 'colorama': 5, 'types': 5, 'classifier': 5, 'market': 5, 'decode': 5, 'sequential': 5, 'batch': 5, 'bernoulli': 5, 'generator': 5, 'extract': 5, 'decoder': 5, 'password': 5, 'on': 5, 'algorithms': 5, 'lstm': 5, 'pdf': 5, 'resume': 5, 'speed': 5, 'test': 5, 'difference': 5, 'between': 5, 'example': 5, 'if': 5, 'application': 4, 'pandas_datareader': 4, 'maze': 4, 'problems': 4, 'pca': 4, 'statistics': 4, 'k': 4, 'means': 4, 'electricity': 4, 'study': 4, 'movie': 4, 'get': 4, 'examples': 4, 'job': 4, 'end': 4, 'ann': 4, 'qrcode': 4, 'elasticity': 4, 'predict': 4, 'comparison': 4, 'use': 4, 'spotify': 4, 'alarm': 4, 'clock': 4, 'analytics': 4, 'scrape': 4, 'website': 4, 'count': 4, 'correlation': 4, 'covariance': 4, 'they': 4, 'unemployment': 3, 'longest': 3, 'common': 3, 'prefix': 3, 'iris': 3, 'multinomial': 3, 'reach': 3, 'product': 3, 'egg': 3, 'catcher': 3, 'sarcasm': 3, 'colors': 3, 'loop': 3, 'remove': 3, 'rent': 3, 'student': 3, 'explained': 3, 'class': 3, 'passive': 3, 'aggressive': 3, 'guesser': 3, 'virat': 3, 'kohli': 3, 'twitter': 3, 'future': 3, 'story': 3, 'gui': 3, 'human': 3, 'activity': 3, 'fundamentals': 3, 'username': 3, '1': 3, 'based': 3, 'reviews': 3, 'email': 3, 'regression': 3, 'food': 3, 'ads': 3, 'multiclass': 3, 'multilabel': 3, 'com': 3, 'solution': 3, 'clustering': 3, 'research': 3, 'web': 3, 'meaning': 3, 'table': 3, 'uber': 3, 'music': 3, 'plus': 3, 'words': 3, 'user': 3, 'deep': 3, 'review': 3, 'check': 3, 'beginners': 3, 'news': 3, 'which': 3, 'are': 3, 'shown': 3, 'have': 3, 'higher': 3, 'value': 3, 'that': 3, 'as': 3, 'used': 3, 'ml': 3, 'internet': 3, 'credit': 3, 'r': 3, 'thecleverprogrammer': 2, 'advanced': 2, 'solver': 2, 'demand': 2, 'salary': 2, 'take': 2, 'multiple': 2, 'inputs': 2, 'duplicates': 2, 'sorted': 2, 'languages': 2, 'predictive': 2, 'sparse': 2, 'balancing': 2, 'seconds': 2, 'day': 2, 'smart': 2, '100': 2, 'classification_report': 2, 'wordcloud': 2, 'gender': 2, 'video': 2, 'encryption': 2, 'business': 2, 'performance': 2, 'evaluation': 2, 'article': 2, 'cleverprogrammer': 2, 'first': 2, 'string': 2, 'or': 2, '0': 2, 'alexa': 2, 'payments': 2, 'decision': 2, 'linear': 2, 'answers': 2, 'delivery': 2, 'hate': 2, 'speech': 2, 'backend': 2, 'when': 2, 'problem': 2, 'uses': 2, 'ip': 2, 'address': 2, 'apriori': 2, 'coding': 2, 'print': 2, 'roman': 2, 'decimal': 2, 'sub': 2, 'screen': 2, 'an': 2, 'generate': 2, 'smartwatch': 2, 'sklearn': 2, 'programs': 2, 'rating': 2, 'trip': 2, '2': 2, 'restaurant': 2, 'ideas': 2, 'autots': 2, 'leetcode': 2, 'converter': 2, 'column': 2, 'sms': 2, 'year': 2, 'than': 2, 'access': 2, 'keyword': 2, 'accelerometer': 2, 'speedtest': 2, 'chosen': 2, 'face': 2, 'up': 2, 'whether': 2, 'lower': 2, 's': 2, 'has': 2, 'incorrect': 2, 'points': 2, 'kmeans': 2, 'why': 2, 'recommender': 2, 'do': 2, 'important': 2, 'water': 2, 'quality': 2, 'dataframe': 2, 'all': 2, 'acronym': 2, 'write': 2, 'numbers': 2, 'object': 2, 'traffic': 2, 'bias': 2, 'scenario': 2, 'independent': 2, 'component': 2, 'squared': 2, 'structures': 2, 'landmark': 2, '82': 1, 'mentor': 1, 'copy': 1, 'paste': 1, 'while': 1, 'tasks': 1, 'regressor': 1, 'watch': 1, 'solving': 1, 'marks': 1, 'training': 1, 'pywhatkit': 1, 'cryptocurrency': 1, 'buy': 1, 'sell': 1, 'analyst': 1, 'kernel': 1, 'ugly': 1, 'drawing': 1, 'unique': 1, 'character': 1, 'either': 1, 'spam': 1, 'boundary': 1, 'flipkart': 1, 'mean': 1, 'median': 1, 'mode': 1, 'energy': 1, 'consumption': 1, 'profit': 1, 'fore': 1, 'colours': 1, 'passiveaggressiveregressor': 1, 'sentence': 1, 'compare': 1, 'contrast': 1, 'excel': 1, 'r2_score': 1, 'employee': 1, 'attrition': 1, 'defang': 1, 'exchange': 1, 'rate': 1, 'rainfall': 1, 'orders': 1, 'customer': 1, 'personality': 1, 'randomized': 1, 'typing': 1, 'agglomerative': 1, 'slicer': 1, 'architecture': 1, 'minibatchkmeans': 1, 'defanging': 1, 'codes': 1, 'reader': 1, 'label': 1, 'free': 1, 'mnist': 1, 'digit': 1, 'connect': 1, 'input': 1, 'predictions': 1, 'test_size': 1, 'rfm': 1, 'insurance': 1, 'deepfake': 1, 'diamond': 1, 'my': 1, 'stone': 1, 'passiveaggressiveclassifier': 1, 'real': 1, 'written': 1, 'binary': 1, 'automate': 1, 'messages': 1, 'includes': 1, 'caterpillar': 1, 'color': 1, 'adalah': 1, 'delete': 1, 'duplicate': 1, 'emails': 1, 'sql': 1, 'single': 1, 'implement': 1, 'birth': 1, 'current': 1, 'calculation': 1, 'employees': 1, 'earning': 1, 'more': 1, 'their': 1, 'managers': 1, 'pdr': 1, 'transaction': 1, 'desktop': 1, 'notifier': 1, 'app': 1, 'camera': 1, 'message': 1, 'there': 1, '8': 1, 'cards': 1, 'randomly': 1, 'deck': 1, 'asks': 1, 'selection': 1, 'will': 1, 'currently': 1, 'showing': 1, 'say': 1, '3': 1, 'chooses': 1, 'correct': 1, 'this': 1, 'had': 1, 'would': 1, 'been': 1, 'guesses': 1, 'correctly': 1, '20': 1, 'choose': 1, 'incorrectly': 1, 'lose': 1, '15': 1, 'be': 1, 'turned': 1, 'over': 1, 'same': 1, 'previous': 1, 'most': 1, 'formula': 1, 'cnn': 1, 'oop': 1, '2022': 1, 'generation': 1, 'github': 1, 'consumer': 1, 'complaint': 1, 'rat': 1, 'scraping': 1, 'apps': 1, 'android': 1, 'version': 1, '4': 1, 'cpp': 1, 'animal': 1, 'clothes': 1, 'api': 1, 'followers': 1, 'range': 1, 'certain': 1, 'specifications': 1, 'trips': 1, 'studies': 1, 'stored': 1, 'you': 1, 'it': 1, 'invoice': 1, 'calculates': 1, 'train_test_split': 1, 'who': 1, 'today': 1, 'countryinfo': 1, 'ndarray': 1, 'bill': 1, 'import': 1, 'amankharwal': 1, 'matplotlib': 1, 'state': 1, 'explain': 1, 'optimization': 1, 'objects': 1, 'bugs': 1, 'ipl': 1, 'order': 1, 'minibatch': 1, 'odd': 1, 'stratified': 1, 'sampling': 1, 'engineer': 1, '2023': 1, 'supermarket': 1, 'methods': 1, 'assumptions': 1, 'scanner': 1, 'recession': 1, 'fundamental': 1, 'tkinter': 1, 'dissertation': 1, 'economics': 1, 'series': 1, 'gaming': 1, 'crash': 1, 'course': 1, 'kalkulator': 1, 'bmi': 1, 'into': 1, 'group': 1, 'academic': 1, 'finder': 1, '190': 1, 'boundaries': 1, 'strength': 1, 'checker': 1, 'n': 1, 'queens': 1, 'plate': 1, 'play': 1, 'store': 1, 'question': 1, '60': 1, 'scissor': 1, 'balance': 1, 'third': 1, 'largest': 1, 'processing': 1, 'micro': 1, 'roc': 1, 'auc': 1, 'scoring': 1, 'useful': 1})\n"
          ]
        }
      ]
    },
    {
      "cell_type": "code",
      "source": [
        "print(wordcounts[2])"
      ],
      "metadata": {
        "colab": {
          "base_uri": "https://localhost:8080/"
        },
        "id": "LTImgApRzGjk",
        "outputId": "8b90aeaf-2eec-4878-e9ad-42ce11a6aff8"
      },
      "execution_count": null,
      "outputs": [
        {
          "output_type": "stream",
          "name": "stdout",
          "text": [
            "0\n"
          ]
        }
      ]
    }
  ]
}