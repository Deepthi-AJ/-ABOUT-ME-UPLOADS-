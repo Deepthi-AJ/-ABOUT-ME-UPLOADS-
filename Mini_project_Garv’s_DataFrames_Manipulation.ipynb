{
  "nbformat": 4,
  "nbformat_minor": 0,
  "metadata": {
    "colab": {
      "provenance": [],
      "include_colab_link": true
    },
    "kernelspec": {
      "name": "python3",
      "display_name": "Python 3"
    },
    "language_info": {
      "name": "python"
    }
  },
  "cells": [
    {
      "cell_type": "markdown",
      "metadata": {
        "id": "view-in-github",
        "colab_type": "text"
      },
      "source": [
        "<a href=\"https://colab.research.google.com/github/Deepthi-AJ/-ABOUT-ME-UPLOADS-/blob/main/Mini_project_Garv%E2%80%99s_DataFrames_Manipulation.ipynb\" target=\"_parent\"><img src=\"https://colab.research.google.com/assets/colab-badge.svg\" alt=\"Open In Colab\"/></a>"
      ]
    },
    {
      "cell_type": "code",
      "execution_count": null,
      "metadata": {
        "colab": {
          "base_uri": "https://localhost:8080/"
        },
        "id": "sXu6wBH7h8ek",
        "outputId": "0f7ba687-4a5a-493b-b049-cbcf71b4008b"
      },
      "outputs": [
        {
          "output_type": "stream",
          "name": "stdout",
          "text": [
            "sales:\n",
            "\n",
            "        Days  Cups Sold  Income\n",
            "0     Monday       30.0    90.0\n",
            "1    Tuesday       45.0   135.0\n",
            "2  Wednesday       50.0   150.0\n",
            "3   Thursday       60.0   180.0\n",
            "4     Friday        NaN     NaN\n",
            "5   Saturday       70.0   210.0\n",
            "6     Sunday       75.0   225.0\n",
            "\n",
            "Expenses:\n",
            "\n",
            "        Days  Expenses\n",
            "0     Monday      20.0\n",
            "1    Tuesday      25.0\n",
            "2  Wednesday      30.0\n",
            "3   Thursday      15.0\n",
            "4     Friday       NaN\n",
            "5   Saturday      40.0\n",
            "6     Sunday      45.0\n"
          ]
        }
      ],
      "source": [
        "import pandas as pd\n",
        "data_sales = pd.read_csv('sales.csv')\n",
        "data_expenses = pd.read_csv('expenses.csv')\n",
        "df1 = pd.DataFrame(data_sales)\n",
        "df2 = pd.DataFrame(data_expenses)\n",
        "print('sales:\\n')\n",
        "print(df1)\n",
        "print('\\nExpenses:\\n')\n",
        "print(df2)\n"
      ]
    },
    {
      "cell_type": "code",
      "source": [
        "import pandas as pd\n",
        "df1 = pd.read_csv(\"sales.csv\")\n",
        "df2 = pd.read_csv('expenses.csv')\n",
        "\n",
        "df3 = pd.merge(df1, df2, on='Days')\n",
        "print(df3)"
      ],
      "metadata": {
        "colab": {
          "base_uri": "https://localhost:8080/"
        },
        "id": "FUujAuvmlSAb",
        "outputId": "c38c21a2-4b79-407e-85ab-8e16b6bfdd00"
      },
      "execution_count": null,
      "outputs": [
        {
          "output_type": "stream",
          "name": "stdout",
          "text": [
            "        Days  Cups Sold  Income  Expenses\n",
            "0     Monday       30.0    90.0      20.0\n",
            "1    Tuesday       45.0   135.0      25.0\n",
            "2  Wednesday       50.0   150.0      30.0\n",
            "3   Thursday       60.0   180.0      15.0\n",
            "4     Friday        NaN     NaN       NaN\n",
            "5   Saturday       70.0   210.0      40.0\n",
            "6     Sunday       75.0   225.0      45.0\n"
          ]
        }
      ]
    },
    {
      "cell_type": "code",
      "source": [
        "import pandas as pd\n",
        "\n",
        "df1 = pd.read_csv('sales.csv')\n",
        "df2 = pd.read_csv('expenses.csv')\n",
        "\n",
        "df3 = pd.merge(df1, df2, on='Days')\n",
        "\n",
        "Cups_sold = df3.loc[df3['Cups Sold'] == 50].index[2]\n",
        "df3.loc[Cups_sold, 50] = 55\n",
        "\n",
        "print(df3)"
      ],
      "metadata": {
        "colab": {
          "base_uri": "https://localhost:8080/",
          "height": 345
        },
        "id": "mcEkJ2b9oNVa",
        "outputId": "ad778268-fa5e-4bab-8a9a-b6a09617a78d"
      },
      "execution_count": null,
      "outputs": [
        {
          "output_type": "error",
          "ename": "IndexError",
          "evalue": "index 2 is out of bounds for axis 0 with size 1",
          "traceback": [
            "\u001b[0;31m---------------------------------------------------------------------------\u001b[0m",
            "\u001b[0;31mIndexError\u001b[0m                                Traceback (most recent call last)",
            "\u001b[0;32m<ipython-input-16-ec0237e15902>\u001b[0m in \u001b[0;36m<cell line: 8>\u001b[0;34m()\u001b[0m\n\u001b[1;32m      6\u001b[0m \u001b[0mdf3\u001b[0m \u001b[0;34m=\u001b[0m \u001b[0mpd\u001b[0m\u001b[0;34m.\u001b[0m\u001b[0mmerge\u001b[0m\u001b[0;34m(\u001b[0m\u001b[0mdf1\u001b[0m\u001b[0;34m,\u001b[0m \u001b[0mdf2\u001b[0m\u001b[0;34m,\u001b[0m \u001b[0mon\u001b[0m\u001b[0;34m=\u001b[0m\u001b[0;34m'Days'\u001b[0m\u001b[0;34m)\u001b[0m\u001b[0;34m\u001b[0m\u001b[0;34m\u001b[0m\u001b[0m\n\u001b[1;32m      7\u001b[0m \u001b[0;34m\u001b[0m\u001b[0m\n\u001b[0;32m----> 8\u001b[0;31m \u001b[0mCups_sold\u001b[0m \u001b[0;34m=\u001b[0m \u001b[0mdf3\u001b[0m\u001b[0;34m.\u001b[0m\u001b[0mloc\u001b[0m\u001b[0;34m[\u001b[0m\u001b[0mdf3\u001b[0m\u001b[0;34m[\u001b[0m\u001b[0;34m'Cups Sold'\u001b[0m\u001b[0;34m]\u001b[0m \u001b[0;34m==\u001b[0m \u001b[0;36m50\u001b[0m\u001b[0;34m]\u001b[0m\u001b[0;34m.\u001b[0m\u001b[0mindex\u001b[0m\u001b[0;34m[\u001b[0m\u001b[0;36m2\u001b[0m\u001b[0;34m]\u001b[0m\u001b[0;34m\u001b[0m\u001b[0;34m\u001b[0m\u001b[0m\n\u001b[0m\u001b[1;32m      9\u001b[0m \u001b[0mdf3\u001b[0m\u001b[0;34m.\u001b[0m\u001b[0mloc\u001b[0m\u001b[0;34m[\u001b[0m\u001b[0mCups_sold\u001b[0m\u001b[0;34m,\u001b[0m \u001b[0;36m50\u001b[0m\u001b[0;34m]\u001b[0m \u001b[0;34m=\u001b[0m \u001b[0;36m55\u001b[0m\u001b[0;34m\u001b[0m\u001b[0;34m\u001b[0m\u001b[0m\n\u001b[1;32m     10\u001b[0m \u001b[0;34m\u001b[0m\u001b[0m\n",
            "\u001b[0;32m/usr/local/lib/python3.10/dist-packages/pandas/core/indexes/base.py\u001b[0m in \u001b[0;36m__getitem__\u001b[0;34m(self, key)\u001b[0m\n\u001b[1;32m   5387\u001b[0m             \u001b[0;31m# GH#44051 exclude bool, which would return a 2d ndarray\u001b[0m\u001b[0;34m\u001b[0m\u001b[0;34m\u001b[0m\u001b[0m\n\u001b[1;32m   5388\u001b[0m             \u001b[0mkey\u001b[0m \u001b[0;34m=\u001b[0m \u001b[0mcom\u001b[0m\u001b[0;34m.\u001b[0m\u001b[0mcast_scalar_indexer\u001b[0m\u001b[0;34m(\u001b[0m\u001b[0mkey\u001b[0m\u001b[0;34m)\u001b[0m\u001b[0;34m\u001b[0m\u001b[0;34m\u001b[0m\u001b[0m\n\u001b[0;32m-> 5389\u001b[0;31m             \u001b[0;32mreturn\u001b[0m \u001b[0mgetitem\u001b[0m\u001b[0;34m(\u001b[0m\u001b[0mkey\u001b[0m\u001b[0;34m)\u001b[0m\u001b[0;34m\u001b[0m\u001b[0;34m\u001b[0m\u001b[0m\n\u001b[0m\u001b[1;32m   5390\u001b[0m \u001b[0;34m\u001b[0m\u001b[0m\n\u001b[1;32m   5391\u001b[0m         \u001b[0;32mif\u001b[0m \u001b[0misinstance\u001b[0m\u001b[0;34m(\u001b[0m\u001b[0mkey\u001b[0m\u001b[0;34m,\u001b[0m \u001b[0mslice\u001b[0m\u001b[0;34m)\u001b[0m\u001b[0;34m:\u001b[0m\u001b[0;34m\u001b[0m\u001b[0;34m\u001b[0m\u001b[0m\n",
            "\u001b[0;31mIndexError\u001b[0m: index 2 is out of bounds for axis 0 with size 1"
          ]
        }
      ]
    },
    {
      "cell_type": "markdown",
      "source": [
        "Garv have been given 2 CSV files: one with the sales data of a ice cream store and one with the\n",
        "expenses data. His task is to merge these files based on the days of the week, then update a value in\n",
        "the merged dataframe, remove a column which is not needed any more, handle any missing values,\n",
        "and then get some statistics about the combined data. So how would he write a Python program using\n",
        "pandas to accomplish all these tasks? Can you help him complete this task."
      ],
      "metadata": {
        "id": "td33o34TiqhY"
      }
    }
  ]
}